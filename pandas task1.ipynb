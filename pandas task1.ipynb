{
 "cells": [
  {
   "cell_type": "code",
   "execution_count": 1,
   "id": "2a1ec941-6a30-444a-97ef-23c362a0de24",
   "metadata": {},
   "outputs": [],
   "source": [
    "student = {\n",
    "    \"student_id\" : [1,2,3,4,5,6,7,8,9,10],\n",
    "    \"student_name\" : [\"khemraj\",\"Aadi\",\"khmeu\",\"deepak\",\"sachin\",\"hari\",\"sam\",\"raj\",\"ram\",\"shyam\"],\n",
    "    \n",
    "}"
   ]
  },
  {
   "cell_type": "code",
   "execution_count": null,
   "id": "1f2de978-8d7c-44aa-a37d-f33294b916c3",
   "metadata": {},
   "outputs": [],
   "source": []
  }
 ],
 "metadata": {
  "kernelspec": {
   "display_name": "Python 3 (ipykernel)",
   "language": "python",
   "name": "python3"
  },
  "language_info": {
   "codemirror_mode": {
    "name": "ipython",
    "version": 3
   },
   "file_extension": ".py",
   "mimetype": "text/x-python",
   "name": "python",
   "nbconvert_exporter": "python",
   "pygments_lexer": "ipython3",
   "version": "3.11.7"
  }
 },
 "nbformat": 4,
 "nbformat_minor": 5
}
