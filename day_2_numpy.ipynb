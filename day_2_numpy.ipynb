{
 "cells": [
  {
   "cell_type": "code",
   "execution_count": 1,
   "id": "49cdd974-c229-4d7b-ae81-23ce6533a034",
   "metadata": {},
   "outputs": [],
   "source": [
    "import numpy as np"
   ]
  },
  {
   "cell_type": "code",
   "execution_count": null,
   "id": "74d81386-74c0-43f6-8135-2a208f032405",
   "metadata": {},
   "outputs": [],
   "source": []
  },
  {
   "cell_type": "markdown",
   "id": "c2e82f37-0d68-41f5-ae3c-63ef994c7831",
   "metadata": {},
   "source": [
    "# View and Copy"
   ]
  },
  {
   "cell_type": "code",
   "execution_count": 6,
   "id": "064553c7-dd56-4313-9367-13e224ddfaee",
   "metadata": {},
   "outputs": [
    {
     "data": {
      "text/plain": [
       "array([ 10,  20,   0,   0,   0,  60,  70,  80,  90, 100])"
      ]
     },
     "execution_count": 6,
     "metadata": {},
     "output_type": "execute_result"
    }
   ],
   "source": [
    "# View means modification in original data\n",
    "a = np.array([10,20,30,40,50,60,70,80,90,100])\n",
    "b = a[2:5]\n",
    "b[:] = 0\n",
    "a"
   ]
  },
  {
   "cell_type": "code",
   "execution_count": 5,
   "id": "f1f19856-bd25-4054-9f2b-760c1ff30bbd",
   "metadata": {},
   "outputs": [
    {
     "data": {
      "text/plain": [
       "array([ 10,  20,  30,  40,  50,  60,  70,  80,  90, 100])"
      ]
     },
     "execution_count": 5,
     "metadata": {},
     "output_type": "execute_result"
    }
   ],
   "source": [
    "# copy means \n",
    "a = np.array([10,20,30,40,50,60,70,80,90,100])\n",
    "b = a[2:5].copy()\n",
    "b[:] = 0\n",
    "a"
   ]
  },
  {
   "cell_type": "code",
   "execution_count": null,
   "id": "66df5a5f-76cd-4f2f-a86b-e018d50dc9fd",
   "metadata": {},
   "outputs": [],
   "source": []
  },
  {
   "cell_type": "code",
   "execution_count": null,
   "id": "696a3b91-fa39-4961-b5d1-d315b92884af",
   "metadata": {},
   "outputs": [],
   "source": []
  },
  {
   "cell_type": "code",
   "execution_count": null,
   "id": "55fe52fb-9956-452b-8281-364cf0257dfd",
   "metadata": {},
   "outputs": [],
   "source": []
  },
  {
   "cell_type": "code",
   "execution_count": null,
   "id": "55a64db4-1e70-40af-8c1b-9beb0791f705",
   "metadata": {},
   "outputs": [],
   "source": []
  },
  {
   "cell_type": "markdown",
   "id": "bd6d0831-65db-4ab6-ac94-43ff4ab40f41",
   "metadata": {},
   "source": [
    "# Reshapeing the data"
   ]
  },
  {
   "cell_type": "code",
   "execution_count": 7,
   "id": "559ab144-e461-4fb1-ba7e-317023a4e43b",
   "metadata": {},
   "outputs": [],
   "source": [
    "# We konw that rows*columns = total_elements\n",
    "# if we have total_element = 12\n",
    "# [(1,12),(12,1),(2,6),(6,2),(3,4),(4,3)]"
   ]
  },
  {
   "cell_type": "code",
   "execution_count": 11,
   "id": "f0a5bbe1-f77a-463a-9a9d-2f7b5234a07f",
   "metadata": {},
   "outputs": [
    {
     "data": {
      "text/plain": [
       "array([35, 10,  2, 31, 19,  6, 37, 11, 44, 23,  4, 10])"
      ]
     },
     "execution_count": 11,
     "metadata": {},
     "output_type": "execute_result"
    }
   ],
   "source": [
    "a = np.random.randint(1,50,12)\n",
    "a"
   ]
  },
  {
   "cell_type": "code",
   "execution_count": 13,
   "id": "62851d69-c632-4708-bed9-ec7e8ee52c29",
   "metadata": {},
   "outputs": [
    {
     "data": {
      "text/plain": [
       "(12,)"
      ]
     },
     "execution_count": 13,
     "metadata": {},
     "output_type": "execute_result"
    }
   ],
   "source": [
    "a.shape"
   ]
  },
  {
   "cell_type": "code",
   "execution_count": 14,
   "id": "a1a90499-3578-4691-8b01-24fceba1d310",
   "metadata": {},
   "outputs": [
    {
     "data": {
      "text/plain": [
       "array([[35, 10,  2, 31, 19,  6, 37, 11, 44, 23,  4, 10]])"
      ]
     },
     "execution_count": 14,
     "metadata": {},
     "output_type": "execute_result"
    }
   ],
   "source": [
    "a.reshape(1,12)"
   ]
  },
  {
   "cell_type": "code",
   "execution_count": 15,
   "id": "12f16c0e-c01d-4dcc-96f2-45d9d796e7a5",
   "metadata": {},
   "outputs": [
    {
     "data": {
      "text/plain": [
       "array([[35],\n",
       "       [10],\n",
       "       [ 2],\n",
       "       [31],\n",
       "       [19],\n",
       "       [ 6],\n",
       "       [37],\n",
       "       [11],\n",
       "       [44],\n",
       "       [23],\n",
       "       [ 4],\n",
       "       [10]])"
      ]
     },
     "execution_count": 15,
     "metadata": {},
     "output_type": "execute_result"
    }
   ],
   "source": [
    "a.reshape(12,1)"
   ]
  },
  {
   "cell_type": "code",
   "execution_count": 16,
   "id": "3e9f272b-67b9-4ded-b8d8-840f22cae378",
   "metadata": {},
   "outputs": [
    {
     "data": {
      "text/plain": [
       "array([[35, 10,  2, 31, 19,  6],\n",
       "       [37, 11, 44, 23,  4, 10]])"
      ]
     },
     "execution_count": 16,
     "metadata": {},
     "output_type": "execute_result"
    }
   ],
   "source": [
    "a.reshape(2,6)"
   ]
  },
  {
   "cell_type": "code",
   "execution_count": 17,
   "id": "9dbf39c4-3c54-45f5-9fed-2ed771b7832b",
   "metadata": {},
   "outputs": [
    {
     "data": {
      "text/plain": [
       "array([[35, 10],\n",
       "       [ 2, 31],\n",
       "       [19,  6],\n",
       "       [37, 11],\n",
       "       [44, 23],\n",
       "       [ 4, 10]])"
      ]
     },
     "execution_count": 17,
     "metadata": {},
     "output_type": "execute_result"
    }
   ],
   "source": [
    "a.reshape(6,2)"
   ]
  },
  {
   "cell_type": "code",
   "execution_count": 18,
   "id": "fd05edb8-f83a-4974-9714-d5c6ab6779d9",
   "metadata": {},
   "outputs": [
    {
     "data": {
      "text/plain": [
       "array([[35, 10,  2, 31],\n",
       "       [19,  6, 37, 11],\n",
       "       [44, 23,  4, 10]])"
      ]
     },
     "execution_count": 18,
     "metadata": {},
     "output_type": "execute_result"
    }
   ],
   "source": [
    "a.reshape(3,4)"
   ]
  },
  {
   "cell_type": "code",
   "execution_count": 19,
   "id": "e4759ec8-838d-4682-807b-93d4c4ca77ac",
   "metadata": {},
   "outputs": [
    {
     "data": {
      "text/plain": [
       "array([[35, 10,  2],\n",
       "       [31, 19,  6],\n",
       "       [37, 11, 44],\n",
       "       [23,  4, 10]])"
      ]
     },
     "execution_count": 19,
     "metadata": {},
     "output_type": "execute_result"
    }
   ],
   "source": [
    "a.reshape(4,3)"
   ]
  },
  {
   "cell_type": "code",
   "execution_count": 21,
   "id": "cd424237-4bfe-4a3f-9e0d-98c0e8105385",
   "metadata": {},
   "outputs": [
    {
     "ename": "ValueError",
     "evalue": "cannot reshape array of size 12 into shape (3,5)",
     "output_type": "error",
     "traceback": [
      "\u001b[1;31m---------------------------------------------------------------------------\u001b[0m",
      "\u001b[1;31mValueError\u001b[0m                                Traceback (most recent call last)",
      "Cell \u001b[1;32mIn[21], line 2\u001b[0m\n\u001b[0;32m      1\u001b[0m \u001b[38;5;66;03m# it will generate a error because 3*5 = 15 not 12\u001b[39;00m\n\u001b[1;32m----> 2\u001b[0m a\u001b[38;5;241m.\u001b[39mreshape(\u001b[38;5;241m3\u001b[39m,\u001b[38;5;241m5\u001b[39m)\n",
      "\u001b[1;31mValueError\u001b[0m: cannot reshape array of size 12 into shape (3,5)"
     ]
    }
   ],
   "source": [
    "# it will generate a error because 3*5 = 15 not 12\n",
    "a.reshape(3,5)"
   ]
  },
  {
   "cell_type": "code",
   "execution_count": null,
   "id": "86ba1810-c5b9-40c2-b369-a21e0071e0ac",
   "metadata": {},
   "outputs": [],
   "source": []
  },
  {
   "cell_type": "code",
   "execution_count": 22,
   "id": "2b5f5835-96f3-4cd8-a851-c3415189cd5c",
   "metadata": {},
   "outputs": [
    {
     "data": {
      "text/plain": [
       "array([75, 61, 63,  7, 62, 98, 73, 77, 42,  2, 94, 45, 70, 64, 35, 75, 66,\n",
       "       69, 52, 63, 49,  2, 50, 71,  7, 47, 44,  3, 20,  1, 92, 31, 61, 37,\n",
       "       35, 94, 89,  6, 98, 27, 73,  5, 42, 20, 87, 34, 21, 43, 31, 85, 75,\n",
       "       38, 42, 88, 72, 81, 82, 19, 22, 34, 84, 88, 76, 15, 93,  4, 48, 17,\n",
       "       50, 84, 57, 96])"
      ]
     },
     "execution_count": 22,
     "metadata": {},
     "output_type": "execute_result"
    }
   ],
   "source": [
    "a = np.random.randint(1,100,72)\n",
    "a"
   ]
  },
  {
   "cell_type": "code",
   "execution_count": 23,
   "id": "cf95b88a-ae5b-445d-8188-a641dd64e244",
   "metadata": {},
   "outputs": [
    {
     "data": {
      "text/plain": [
       "array([[75, 61, 63,  7, 62, 98, 73, 77, 42,  2, 94, 45, 70, 64, 35, 75,\n",
       "        66, 69, 52, 63, 49,  2, 50, 71,  7, 47, 44,  3, 20,  1, 92, 31,\n",
       "        61, 37, 35, 94, 89,  6, 98, 27, 73,  5, 42, 20, 87, 34, 21, 43,\n",
       "        31, 85, 75, 38, 42, 88, 72, 81, 82, 19, 22, 34, 84, 88, 76, 15,\n",
       "        93,  4, 48, 17, 50, 84, 57, 96]])"
      ]
     },
     "execution_count": 23,
     "metadata": {},
     "output_type": "execute_result"
    }
   ],
   "source": [
    "a.reshape(1,72)"
   ]
  },
  {
   "cell_type": "code",
   "execution_count": 24,
   "id": "68b568b2-3dbe-431e-bb13-a845b3f7c8fc",
   "metadata": {},
   "outputs": [
    {
     "data": {
      "text/plain": [
       "array([[75],\n",
       "       [61],\n",
       "       [63],\n",
       "       [ 7],\n",
       "       [62],\n",
       "       [98],\n",
       "       [73],\n",
       "       [77],\n",
       "       [42],\n",
       "       [ 2],\n",
       "       [94],\n",
       "       [45],\n",
       "       [70],\n",
       "       [64],\n",
       "       [35],\n",
       "       [75],\n",
       "       [66],\n",
       "       [69],\n",
       "       [52],\n",
       "       [63],\n",
       "       [49],\n",
       "       [ 2],\n",
       "       [50],\n",
       "       [71],\n",
       "       [ 7],\n",
       "       [47],\n",
       "       [44],\n",
       "       [ 3],\n",
       "       [20],\n",
       "       [ 1],\n",
       "       [92],\n",
       "       [31],\n",
       "       [61],\n",
       "       [37],\n",
       "       [35],\n",
       "       [94],\n",
       "       [89],\n",
       "       [ 6],\n",
       "       [98],\n",
       "       [27],\n",
       "       [73],\n",
       "       [ 5],\n",
       "       [42],\n",
       "       [20],\n",
       "       [87],\n",
       "       [34],\n",
       "       [21],\n",
       "       [43],\n",
       "       [31],\n",
       "       [85],\n",
       "       [75],\n",
       "       [38],\n",
       "       [42],\n",
       "       [88],\n",
       "       [72],\n",
       "       [81],\n",
       "       [82],\n",
       "       [19],\n",
       "       [22],\n",
       "       [34],\n",
       "       [84],\n",
       "       [88],\n",
       "       [76],\n",
       "       [15],\n",
       "       [93],\n",
       "       [ 4],\n",
       "       [48],\n",
       "       [17],\n",
       "       [50],\n",
       "       [84],\n",
       "       [57],\n",
       "       [96]])"
      ]
     },
     "execution_count": 24,
     "metadata": {},
     "output_type": "execute_result"
    }
   ],
   "source": [
    "a.reshape(72,1)"
   ]
  },
  {
   "cell_type": "code",
   "execution_count": 25,
   "id": "ff2f628a-8cd8-49a9-aec4-06e55c0eaefd",
   "metadata": {},
   "outputs": [
    {
     "data": {
      "text/plain": [
       "array([[75, 61, 63,  7, 62, 98, 73, 77, 42,  2, 94, 45, 70, 64, 35, 75,\n",
       "        66, 69, 52, 63, 49,  2, 50, 71,  7, 47, 44,  3, 20,  1, 92, 31,\n",
       "        61, 37, 35, 94],\n",
       "       [89,  6, 98, 27, 73,  5, 42, 20, 87, 34, 21, 43, 31, 85, 75, 38,\n",
       "        42, 88, 72, 81, 82, 19, 22, 34, 84, 88, 76, 15, 93,  4, 48, 17,\n",
       "        50, 84, 57, 96]])"
      ]
     },
     "execution_count": 25,
     "metadata": {},
     "output_type": "execute_result"
    }
   ],
   "source": [
    "a.reshape(2,36)"
   ]
  },
  {
   "cell_type": "code",
   "execution_count": 26,
   "id": "abdbb021-26d2-4c41-b1c0-7786416a535c",
   "metadata": {},
   "outputs": [
    {
     "data": {
      "text/plain": [
       "array([[75, 61],\n",
       "       [63,  7],\n",
       "       [62, 98],\n",
       "       [73, 77],\n",
       "       [42,  2],\n",
       "       [94, 45],\n",
       "       [70, 64],\n",
       "       [35, 75],\n",
       "       [66, 69],\n",
       "       [52, 63],\n",
       "       [49,  2],\n",
       "       [50, 71],\n",
       "       [ 7, 47],\n",
       "       [44,  3],\n",
       "       [20,  1],\n",
       "       [92, 31],\n",
       "       [61, 37],\n",
       "       [35, 94],\n",
       "       [89,  6],\n",
       "       [98, 27],\n",
       "       [73,  5],\n",
       "       [42, 20],\n",
       "       [87, 34],\n",
       "       [21, 43],\n",
       "       [31, 85],\n",
       "       [75, 38],\n",
       "       [42, 88],\n",
       "       [72, 81],\n",
       "       [82, 19],\n",
       "       [22, 34],\n",
       "       [84, 88],\n",
       "       [76, 15],\n",
       "       [93,  4],\n",
       "       [48, 17],\n",
       "       [50, 84],\n",
       "       [57, 96]])"
      ]
     },
     "execution_count": 26,
     "metadata": {},
     "output_type": "execute_result"
    }
   ],
   "source": [
    "a.reshape(36,2)"
   ]
  },
  {
   "cell_type": "code",
   "execution_count": 27,
   "id": "d73261ef-14d9-497f-a3cc-284906b4e412",
   "metadata": {},
   "outputs": [
    {
     "data": {
      "text/plain": [
       "array([[75, 61, 63,  7, 62, 98, 73, 77, 42,  2, 94, 45, 70, 64, 35, 75,\n",
       "        66, 69, 52, 63, 49,  2, 50, 71],\n",
       "       [ 7, 47, 44,  3, 20,  1, 92, 31, 61, 37, 35, 94, 89,  6, 98, 27,\n",
       "        73,  5, 42, 20, 87, 34, 21, 43],\n",
       "       [31, 85, 75, 38, 42, 88, 72, 81, 82, 19, 22, 34, 84, 88, 76, 15,\n",
       "        93,  4, 48, 17, 50, 84, 57, 96]])"
      ]
     },
     "execution_count": 27,
     "metadata": {},
     "output_type": "execute_result"
    }
   ],
   "source": [
    "a.reshape(3,24)"
   ]
  },
  {
   "cell_type": "code",
   "execution_count": 28,
   "id": "09a40a46-e2c6-4e4d-8187-de3b584f57fd",
   "metadata": {},
   "outputs": [
    {
     "data": {
      "text/plain": [
       "array([[75, 61, 63],\n",
       "       [ 7, 62, 98],\n",
       "       [73, 77, 42],\n",
       "       [ 2, 94, 45],\n",
       "       [70, 64, 35],\n",
       "       [75, 66, 69],\n",
       "       [52, 63, 49],\n",
       "       [ 2, 50, 71],\n",
       "       [ 7, 47, 44],\n",
       "       [ 3, 20,  1],\n",
       "       [92, 31, 61],\n",
       "       [37, 35, 94],\n",
       "       [89,  6, 98],\n",
       "       [27, 73,  5],\n",
       "       [42, 20, 87],\n",
       "       [34, 21, 43],\n",
       "       [31, 85, 75],\n",
       "       [38, 42, 88],\n",
       "       [72, 81, 82],\n",
       "       [19, 22, 34],\n",
       "       [84, 88, 76],\n",
       "       [15, 93,  4],\n",
       "       [48, 17, 50],\n",
       "       [84, 57, 96]])"
      ]
     },
     "execution_count": 28,
     "metadata": {},
     "output_type": "execute_result"
    }
   ],
   "source": [
    "a.reshape(24,3)"
   ]
  },
  {
   "cell_type": "code",
   "execution_count": 29,
   "id": "5ddd2e26-8930-438f-9760-d13065b36b00",
   "metadata": {},
   "outputs": [
    {
     "data": {
      "text/plain": [
       "array([[75, 61, 63,  7, 62, 98, 73, 77, 42,  2, 94, 45, 70, 64, 35, 75,\n",
       "        66, 69],\n",
       "       [52, 63, 49,  2, 50, 71,  7, 47, 44,  3, 20,  1, 92, 31, 61, 37,\n",
       "        35, 94],\n",
       "       [89,  6, 98, 27, 73,  5, 42, 20, 87, 34, 21, 43, 31, 85, 75, 38,\n",
       "        42, 88],\n",
       "       [72, 81, 82, 19, 22, 34, 84, 88, 76, 15, 93,  4, 48, 17, 50, 84,\n",
       "        57, 96]])"
      ]
     },
     "execution_count": 29,
     "metadata": {},
     "output_type": "execute_result"
    }
   ],
   "source": [
    "a.reshape(4,18)"
   ]
  },
  {
   "cell_type": "code",
   "execution_count": 30,
   "id": "dae42a2a-f3dc-4f5e-a4f1-6da48f159cbc",
   "metadata": {},
   "outputs": [
    {
     "data": {
      "text/plain": [
       "array([[75, 61, 63,  7],\n",
       "       [62, 98, 73, 77],\n",
       "       [42,  2, 94, 45],\n",
       "       [70, 64, 35, 75],\n",
       "       [66, 69, 52, 63],\n",
       "       [49,  2, 50, 71],\n",
       "       [ 7, 47, 44,  3],\n",
       "       [20,  1, 92, 31],\n",
       "       [61, 37, 35, 94],\n",
       "       [89,  6, 98, 27],\n",
       "       [73,  5, 42, 20],\n",
       "       [87, 34, 21, 43],\n",
       "       [31, 85, 75, 38],\n",
       "       [42, 88, 72, 81],\n",
       "       [82, 19, 22, 34],\n",
       "       [84, 88, 76, 15],\n",
       "       [93,  4, 48, 17],\n",
       "       [50, 84, 57, 96]])"
      ]
     },
     "execution_count": 30,
     "metadata": {},
     "output_type": "execute_result"
    }
   ],
   "source": [
    "a.reshape(18,4)"
   ]
  },
  {
   "cell_type": "code",
   "execution_count": 31,
   "id": "2206049c-3fd3-4f37-882b-c642ede7f5f6",
   "metadata": {},
   "outputs": [
    {
     "data": {
      "text/plain": [
       "array([[75, 61, 63,  7, 62, 98, 73, 77, 42,  2, 94, 45],\n",
       "       [70, 64, 35, 75, 66, 69, 52, 63, 49,  2, 50, 71],\n",
       "       [ 7, 47, 44,  3, 20,  1, 92, 31, 61, 37, 35, 94],\n",
       "       [89,  6, 98, 27, 73,  5, 42, 20, 87, 34, 21, 43],\n",
       "       [31, 85, 75, 38, 42, 88, 72, 81, 82, 19, 22, 34],\n",
       "       [84, 88, 76, 15, 93,  4, 48, 17, 50, 84, 57, 96]])"
      ]
     },
     "execution_count": 31,
     "metadata": {},
     "output_type": "execute_result"
    }
   ],
   "source": [
    "a.reshape(6,12)"
   ]
  },
  {
   "cell_type": "code",
   "execution_count": 32,
   "id": "46c801fc-b415-45d7-85bb-7a9d5303bd23",
   "metadata": {},
   "outputs": [
    {
     "data": {
      "text/plain": [
       "array([[75, 61, 63,  7, 62, 98],\n",
       "       [73, 77, 42,  2, 94, 45],\n",
       "       [70, 64, 35, 75, 66, 69],\n",
       "       [52, 63, 49,  2, 50, 71],\n",
       "       [ 7, 47, 44,  3, 20,  1],\n",
       "       [92, 31, 61, 37, 35, 94],\n",
       "       [89,  6, 98, 27, 73,  5],\n",
       "       [42, 20, 87, 34, 21, 43],\n",
       "       [31, 85, 75, 38, 42, 88],\n",
       "       [72, 81, 82, 19, 22, 34],\n",
       "       [84, 88, 76, 15, 93,  4],\n",
       "       [48, 17, 50, 84, 57, 96]])"
      ]
     },
     "execution_count": 32,
     "metadata": {},
     "output_type": "execute_result"
    }
   ],
   "source": [
    "a.reshape(12,6)"
   ]
  },
  {
   "cell_type": "code",
   "execution_count": 33,
   "id": "8189ad28-e81a-4997-bd11-5bcb674275e8",
   "metadata": {},
   "outputs": [
    {
     "data": {
      "text/plain": [
       "array([[75, 61, 63,  7, 62, 98, 73, 77, 42],\n",
       "       [ 2, 94, 45, 70, 64, 35, 75, 66, 69],\n",
       "       [52, 63, 49,  2, 50, 71,  7, 47, 44],\n",
       "       [ 3, 20,  1, 92, 31, 61, 37, 35, 94],\n",
       "       [89,  6, 98, 27, 73,  5, 42, 20, 87],\n",
       "       [34, 21, 43, 31, 85, 75, 38, 42, 88],\n",
       "       [72, 81, 82, 19, 22, 34, 84, 88, 76],\n",
       "       [15, 93,  4, 48, 17, 50, 84, 57, 96]])"
      ]
     },
     "execution_count": 33,
     "metadata": {},
     "output_type": "execute_result"
    }
   ],
   "source": [
    "a.reshape(8,9)"
   ]
  },
  {
   "cell_type": "code",
   "execution_count": 35,
   "id": "4d7da6cb-2e96-4f0f-a6b4-1d5550336e83",
   "metadata": {},
   "outputs": [
    {
     "data": {
      "text/plain": [
       "array([[75, 61, 63,  7, 62, 98, 73, 77],\n",
       "       [42,  2, 94, 45, 70, 64, 35, 75],\n",
       "       [66, 69, 52, 63, 49,  2, 50, 71],\n",
       "       [ 7, 47, 44,  3, 20,  1, 92, 31],\n",
       "       [61, 37, 35, 94, 89,  6, 98, 27],\n",
       "       [73,  5, 42, 20, 87, 34, 21, 43],\n",
       "       [31, 85, 75, 38, 42, 88, 72, 81],\n",
       "       [82, 19, 22, 34, 84, 88, 76, 15],\n",
       "       [93,  4, 48, 17, 50, 84, 57, 96]])"
      ]
     },
     "execution_count": 35,
     "metadata": {},
     "output_type": "execute_result"
    }
   ],
   "source": [
    "a.reshape(9,8)"
   ]
  },
  {
   "cell_type": "code",
   "execution_count": null,
   "id": "6c126e2b-c028-477f-ae5d-5c61d1b02721",
   "metadata": {},
   "outputs": [],
   "source": []
  },
  {
   "cell_type": "markdown",
   "id": "3a2482d2-a439-49d8-a6a0-da37f34d02b3",
   "metadata": {},
   "source": [
    "### arange()"
   ]
  },
  {
   "cell_type": "code",
   "execution_count": 36,
   "id": "6ac7ec80-adfd-442f-91e1-3317d71ef226",
   "metadata": {},
   "outputs": [
    {
     "data": {
      "text/plain": [
       "array([ 1,  2,  3,  4,  5,  6,  7,  8,  9, 10, 11, 12, 13, 14, 15])"
      ]
     },
     "execution_count": 36,
     "metadata": {},
     "output_type": "execute_result"
    }
   ],
   "source": [
    "a = np.arange(1,16)\n",
    "a"
   ]
  },
  {
   "cell_type": "markdown",
   "id": "ec571ad6-7adb-4e86-93d1-d442e9a41d13",
   "metadata": {},
   "source": [
    "# Condition Selection in Numpy"
   ]
  },
  {
   "cell_type": "code",
   "execution_count": 37,
   "id": "6a873ba4-6a55-41dd-b630-5b8c65c1aa9f",
   "metadata": {},
   "outputs": [
    {
     "data": {
      "text/plain": [
       "array([False, False, False, False, False, False, False, False, False,\n",
       "       False,  True,  True,  True,  True,  True])"
      ]
     },
     "execution_count": 37,
     "metadata": {},
     "output_type": "execute_result"
    }
   ],
   "source": [
    "a>10"
   ]
  },
  {
   "cell_type": "code",
   "execution_count": 38,
   "id": "227c31bc-77d6-4959-bfc4-523d5d1eaa52",
   "metadata": {},
   "outputs": [
    {
     "data": {
      "text/plain": [
       "array([ True,  True,  True,  True,  True,  True,  True,  True,  True,\n",
       "       False, False, False, False, False, False])"
      ]
     },
     "execution_count": 38,
     "metadata": {},
     "output_type": "execute_result"
    }
   ],
   "source": [
    "a<10"
   ]
  },
  {
   "cell_type": "code",
   "execution_count": 39,
   "id": "d4aa86a7-3e5e-4e57-80d1-84185cbd03d8",
   "metadata": {},
   "outputs": [
    {
     "data": {
      "text/plain": [
       "array([False, False, False, False, False, False, False, False, False,\n",
       "       False,  True,  True,  True,  True,  True])"
      ]
     },
     "execution_count": 39,
     "metadata": {},
     "output_type": "execute_result"
    }
   ],
   "source": [
    "b = a>10\n",
    "b"
   ]
  },
  {
   "cell_type": "code",
   "execution_count": 40,
   "id": "6be83486-216a-42ad-8c16-ca423356a443",
   "metadata": {},
   "outputs": [
    {
     "data": {
      "text/plain": [
       "array([ True,  True,  True,  True,  True,  True,  True,  True,  True,\n",
       "       False, False, False, False, False, False])"
      ]
     },
     "execution_count": 40,
     "metadata": {},
     "output_type": "execute_result"
    }
   ],
   "source": [
    "b = a<10\n",
    "b"
   ]
  },
  {
   "cell_type": "code",
   "execution_count": 41,
   "id": "157a9f58-d893-4ba3-8b66-1d09384f0548",
   "metadata": {},
   "outputs": [
    {
     "data": {
      "text/plain": [
       "array([ 2,  4,  6,  8, 10, 12, 14])"
      ]
     },
     "execution_count": 41,
     "metadata": {},
     "output_type": "execute_result"
    }
   ],
   "source": [
    "a[a%2==0]"
   ]
  },
  {
   "cell_type": "code",
   "execution_count": 42,
   "id": "933c4a87-9b1f-4fb4-85b4-9b425edddb1e",
   "metadata": {},
   "outputs": [
    {
     "data": {
      "text/plain": [
       "array([ 1,  3,  5,  7,  9, 11, 13, 15])"
      ]
     },
     "execution_count": 42,
     "metadata": {},
     "output_type": "execute_result"
    }
   ],
   "source": [
    "a[a%2!=0]"
   ]
  },
  {
   "cell_type": "code",
   "execution_count": null,
   "id": "42f2c8c7-754f-45c7-8512-92fc2659b51a",
   "metadata": {},
   "outputs": [],
   "source": []
  },
  {
   "cell_type": "code",
   "execution_count": 43,
   "id": "79da94aa-25fd-4793-8811-7b96d01bd47f",
   "metadata": {},
   "outputs": [
    {
     "data": {
      "text/plain": [
       "array([[1, 2],\n",
       "       [3, 4]])"
      ]
     },
     "execution_count": 43,
     "metadata": {},
     "output_type": "execute_result"
    }
   ],
   "source": [
    "a = np.arange(1,5).reshape(2,2)\n",
    "a"
   ]
  },
  {
   "cell_type": "code",
   "execution_count": 44,
   "id": "6c1230f7-d670-48cc-af0c-1c1feedbd182",
   "metadata": {},
   "outputs": [
    {
     "data": {
      "text/plain": [
       "array([[5, 6],\n",
       "       [7, 8]])"
      ]
     },
     "execution_count": 44,
     "metadata": {},
     "output_type": "execute_result"
    }
   ],
   "source": [
    "b = np.arange(5,9).reshape(2,2)\n",
    "b"
   ]
  },
  {
   "cell_type": "markdown",
   "id": "b42c1ddb-2881-4e15-baf4-0f7a16fc2297",
   "metadata": {},
   "source": [
    "## Arithmetic operators in array"
   ]
  },
  {
   "cell_type": "code",
   "execution_count": 45,
   "id": "df198024-f842-42a5-bc72-0a41b7e4d471",
   "metadata": {},
   "outputs": [
    {
     "data": {
      "text/plain": [
       "array([[ 6,  8],\n",
       "       [10, 12]])"
      ]
     },
     "execution_count": 45,
     "metadata": {},
     "output_type": "execute_result"
    }
   ],
   "source": [
    "a+b"
   ]
  },
  {
   "cell_type": "code",
   "execution_count": 46,
   "id": "15cb7547-6ff4-4469-8170-12a85a455b9d",
   "metadata": {},
   "outputs": [
    {
     "data": {
      "text/plain": [
       "array([[-4, -4],\n",
       "       [-4, -4]])"
      ]
     },
     "execution_count": 46,
     "metadata": {},
     "output_type": "execute_result"
    }
   ],
   "source": [
    "a-b"
   ]
  },
  {
   "cell_type": "code",
   "execution_count": 47,
   "id": "867a583f-3450-41d2-bb31-53fdaf6b5805",
   "metadata": {},
   "outputs": [
    {
     "data": {
      "text/plain": [
       "array([[ 5, 12],\n",
       "       [21, 32]])"
      ]
     },
     "execution_count": 47,
     "metadata": {},
     "output_type": "execute_result"
    }
   ],
   "source": [
    "a*b  # worng way to multipation"
   ]
  },
  {
   "cell_type": "code",
   "execution_count": 49,
   "id": "6e9a35c0-7af5-428c-830e-fb6b907020a5",
   "metadata": {},
   "outputs": [
    {
     "data": {
      "text/plain": [
       "array([[19, 22],\n",
       "       [43, 50]])"
      ]
     },
     "execution_count": 49,
     "metadata": {},
     "output_type": "execute_result"
    }
   ],
   "source": [
    "a.dot(b) # for multipation"
   ]
  },
  {
   "cell_type": "code",
   "execution_count": 50,
   "id": "697a3d97-bf34-48c3-8841-b3308080d8b2",
   "metadata": {},
   "outputs": [
    {
     "data": {
      "text/plain": [
       "array([[1, 2, 3],\n",
       "       [4, 5, 6],\n",
       "       [7, 8, 9]])"
      ]
     },
     "execution_count": 50,
     "metadata": {},
     "output_type": "execute_result"
    }
   ],
   "source": [
    "a = np.arange(1,10).reshape(3,3)\n",
    "a"
   ]
  },
  {
   "cell_type": "code",
   "execution_count": 51,
   "id": "a567acc1-ff96-4f0c-b7f6-1b9a921b34b5",
   "metadata": {},
   "outputs": [
    {
     "data": {
      "text/plain": [
       "45"
      ]
     },
     "execution_count": 51,
     "metadata": {},
     "output_type": "execute_result"
    }
   ],
   "source": [
    "np.sum(a)"
   ]
  },
  {
   "cell_type": "code",
   "execution_count": 54,
   "id": "43f49dd1-5be8-4ae1-9bfc-8c84b97c2ea6",
   "metadata": {},
   "outputs": [
    {
     "data": {
      "text/plain": [
       "array([ 6, 15, 24])"
      ]
     },
     "execution_count": 54,
     "metadata": {},
     "output_type": "execute_result"
    }
   ],
   "source": [
    "# axis = 1 means row\n",
    "np.sum(a, axis=1)"
   ]
  },
  {
   "cell_type": "code",
   "execution_count": 55,
   "id": "6e875133-3d12-4efe-89d8-6bc50e77bea2",
   "metadata": {},
   "outputs": [
    {
     "data": {
      "text/plain": [
       "array([12, 15, 18])"
      ]
     },
     "execution_count": 55,
     "metadata": {},
     "output_type": "execute_result"
    }
   ],
   "source": [
    "# axis = 0 means columns\n",
    "np.sum(a, axis=0)"
   ]
  },
  {
   "cell_type": "markdown",
   "id": "531c3de8-2dab-4b5b-88e1-a06a63bb5a2e",
   "metadata": {},
   "source": [
    "### Unique() ===> It will return unique values or eliminate duplicate values.\n",
    "* It will return 3 array\n",
    "    * (1). Unique value's array.\n",
    "    * (2). Indexing of original value.\n",
    "    * (3). Returns frequency of each unique value."
   ]
  },
  {
   "cell_type": "code",
   "execution_count": 56,
   "id": "31472d33-7ca5-4e94-9b2f-bfaa3020c2ff",
   "metadata": {},
   "outputs": [
    {
     "data": {
      "text/plain": [
       "array([1, 2, 1, 2, 3, 3, 4, 3, 2, 3, 5, 6, 3, 2])"
      ]
     },
     "execution_count": 56,
     "metadata": {},
     "output_type": "execute_result"
    }
   ],
   "source": [
    "a = np.array([1,2,1,2,3,3,4,3,2,3,5,6,3,2])\n",
    "a"
   ]
  },
  {
   "cell_type": "code",
   "execution_count": 59,
   "id": "1ac0d69a-7bdc-4a4c-b6be-907f4b4d6807",
   "metadata": {},
   "outputs": [
    {
     "data": {
      "text/plain": [
       "(array([1, 2, 3, 4, 5, 6]),\n",
       " array([ 0,  1,  4,  6, 10, 11], dtype=int64),\n",
       " array([2, 4, 5, 1, 1, 1], dtype=int64))"
      ]
     },
     "execution_count": 59,
     "metadata": {},
     "output_type": "execute_result"
    }
   ],
   "source": [
    "# True means we get the array\n",
    "np.unique(a, return_index=True, return_counts=True)"
   ]
  },
  {
   "cell_type": "code",
   "execution_count": 60,
   "id": "c822a746-db88-4756-b0f7-fcf62f2d7dca",
   "metadata": {},
   "outputs": [
    {
     "data": {
      "text/plain": [
       "(array([1, 2, 3, 4, 5, 6]), array([2, 4, 5, 1, 1, 1], dtype=int64))"
      ]
     },
     "execution_count": 60,
     "metadata": {},
     "output_type": "execute_result"
    }
   ],
   "source": [
    "# False means we don't get array\n",
    "np.unique(a, return_index=False, return_counts=True)"
   ]
  },
  {
   "cell_type": "markdown",
   "id": "279ca475-b4c3-4827-9044-34c0b8f88a82",
   "metadata": {},
   "source": [
    "### linspace() ===> It will create an array in which difference of each value will be equal."
   ]
  },
  {
   "cell_type": "code",
   "execution_count": 62,
   "id": "26c938f3-7f6b-4f16-b4f2-6960d9a6ba24",
   "metadata": {},
   "outputs": [
    {
     "data": {
      "text/plain": [
       "array([1.  , 1.25, 1.5 , 1.75, 2.  ])"
      ]
     },
     "execution_count": 62,
     "metadata": {},
     "output_type": "execute_result"
    }
   ],
   "source": [
    "a = np.linspace(1,2,5)\n",
    "a"
   ]
  },
  {
   "cell_type": "code",
   "execution_count": null,
   "id": "35a018f7-25c7-45c1-9d10-8a602f7ca1c7",
   "metadata": {},
   "outputs": [],
   "source": []
  },
  {
   "cell_type": "markdown",
   "id": "6e305291-3b31-49f2-b9b8-f5ac07d5b181",
   "metadata": {},
   "source": [
    "## Stacking in Numpy"
   ]
  },
  {
   "cell_type": "markdown",
   "id": "afffb5cc-7450-4f07-8889-e9e6928f27ff",
   "metadata": {},
   "source": [
    "#### (1). hstack() ===> It will combined multiple arrays into horizontally."
   ]
  },
  {
   "cell_type": "code",
   "execution_count": 63,
   "id": "bb700b81-f140-4184-a808-e702794b3b75",
   "metadata": {},
   "outputs": [
    {
     "data": {
      "text/plain": [
       "array([ 1,  2,  3,  4,  5,  6,  7,  8,  9, 10, 11, 12])"
      ]
     },
     "execution_count": 63,
     "metadata": {},
     "output_type": "execute_result"
    }
   ],
   "source": [
    "a = np.arange(1,5)\n",
    "b = np.arange(5,9)\n",
    "c = np.arange(9,13)\n",
    "np.hstack((a,b,c))"
   ]
  },
  {
   "cell_type": "markdown",
   "id": "d87f26d0-738b-4d1c-ac38-9d7199c0b97d",
   "metadata": {},
   "source": [
    "#### (2).vstack() ===> It will combined multiple arrays into vertically."
   ]
  },
  {
   "cell_type": "code",
   "execution_count": 64,
   "id": "5c2789fb-9666-488c-aa69-2d3df7f197ed",
   "metadata": {},
   "outputs": [
    {
     "data": {
      "text/plain": [
       "array([[ 1,  2,  3,  4],\n",
       "       [ 5,  6,  7,  8],\n",
       "       [ 9, 10, 11, 12]])"
      ]
     },
     "execution_count": 64,
     "metadata": {},
     "output_type": "execute_result"
    }
   ],
   "source": [
    "a = np.arange(1,5)\n",
    "b = np.arange(5,9)\n",
    "c = np.arange(9,13)\n",
    "np.vstack((a,b,c))"
   ]
  },
  {
   "cell_type": "code",
   "execution_count": null,
   "id": "3ad35aa5-f17b-4d70-b7bf-a8f454e068e3",
   "metadata": {},
   "outputs": [],
   "source": []
  },
  {
   "cell_type": "markdown",
   "id": "59e1f55e-d4a4-4373-b740-95566983a981",
   "metadata": {},
   "source": [
    "# 3 - Dim array"
   ]
  },
  {
   "cell_type": "code",
   "execution_count": 65,
   "id": "6b3654e6-0aa4-4e54-8749-6d666f4ee296",
   "metadata": {},
   "outputs": [
    {
     "data": {
      "text/plain": [
       "array([[[1, 2, 3],\n",
       "        [4, 5, 6],\n",
       "        [7, 8, 9]]])"
      ]
     },
     "execution_count": 65,
     "metadata": {},
     "output_type": "execute_result"
    }
   ],
   "source": [
    "a = [[[1,2,3],[4,5,6],[7,8,9]]]\n",
    "b = np.array(a)\n",
    "b"
   ]
  },
  {
   "cell_type": "code",
   "execution_count": 66,
   "id": "43ab7ed7-abbe-4dc5-bc3b-b637b8e3caf8",
   "metadata": {},
   "outputs": [
    {
     "data": {
      "text/plain": [
       "3"
      ]
     },
     "execution_count": 66,
     "metadata": {},
     "output_type": "execute_result"
    }
   ],
   "source": [
    "b.ndim"
   ]
  },
  {
   "cell_type": "code",
   "execution_count": 67,
   "id": "c51a0ffd-97a0-4ea4-9e2d-2e4272f5d92a",
   "metadata": {},
   "outputs": [
    {
     "data": {
      "text/plain": [
       "array([1, 2, 3])"
      ]
     },
     "execution_count": 67,
     "metadata": {},
     "output_type": "execute_result"
    }
   ],
   "source": [
    "b[0][0]"
   ]
  },
  {
   "cell_type": "code",
   "execution_count": 68,
   "id": "8f51d456-77b7-4745-95c5-fc4ae353e820",
   "metadata": {},
   "outputs": [
    {
     "data": {
      "text/plain": [
       "array([4, 5, 6])"
      ]
     },
     "execution_count": 68,
     "metadata": {},
     "output_type": "execute_result"
    }
   ],
   "source": [
    "b[0][1]"
   ]
  },
  {
   "cell_type": "code",
   "execution_count": 69,
   "id": "ce62b548-cd61-45a4-81aa-e5ad98fd0a71",
   "metadata": {},
   "outputs": [
    {
     "data": {
      "text/plain": [
       "array([7, 8, 9])"
      ]
     },
     "execution_count": 69,
     "metadata": {},
     "output_type": "execute_result"
    }
   ],
   "source": [
    "b[0][2]"
   ]
  },
  {
   "cell_type": "code",
   "execution_count": 71,
   "id": "c2e47e89-e21a-41f4-be3d-7bb287a45f23",
   "metadata": {},
   "outputs": [
    {
     "data": {
      "text/plain": [
       "7"
      ]
     },
     "execution_count": 71,
     "metadata": {},
     "output_type": "execute_result"
    }
   ],
   "source": [
    "b[0][2][0]"
   ]
  },
  {
   "cell_type": "code",
   "execution_count": null,
   "id": "d8ff52c7-53f9-4059-ba54-0e48631c45dc",
   "metadata": {},
   "outputs": [],
   "source": []
  }
 ],
 "metadata": {
  "kernelspec": {
   "display_name": "Python 3 (ipykernel)",
   "language": "python",
   "name": "python3"
  },
  "language_info": {
   "codemirror_mode": {
    "name": "ipython",
    "version": 3
   },
   "file_extension": ".py",
   "mimetype": "text/x-python",
   "name": "python",
   "nbconvert_exporter": "python",
   "pygments_lexer": "ipython3",
   "version": "3.11.7"
  }
 },
 "nbformat": 4,
 "nbformat_minor": 5
}
