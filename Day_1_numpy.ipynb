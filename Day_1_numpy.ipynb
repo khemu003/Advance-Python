{
 "cells": [
  {
   "cell_type": "markdown",
   "id": "ade7cd3e-5d7d-461b-8d07-23ae80ecbf57",
   "metadata": {},
   "source": [
    "# Numpy"
   ]
  },
  {
   "cell_type": "markdown",
   "id": "60ac64e2-bb9c-4015-beca-342e8bf52368",
   "metadata": {},
   "source": [
    "**Numpy** is an open-source Library that is used for scientific calculations."
   ]
  },
  {
   "cell_type": "markdown",
   "id": "11a8e393-dbc3-4576-a3fe-f5a2fef80946",
   "metadata": {},
   "source": [
    "## Characteristics of numpy\n",
    "* (1). Homogeneous data type\n",
    "* (2). memory less consume\n",
    "* (3). Less time consume"
   ]
  },
  {
   "cell_type": "code",
   "execution_count": 2,
   "id": "83f55e7e-6016-4016-834b-c6cc34ac9ff9",
   "metadata": {},
   "outputs": [
    {
     "name": "stdout",
     "output_type": "stream",
     "text": [
      "Requirement already satisfied: numpy in c:\\users\\khemr\\anaconda3\\lib\\site-packages (1.26.4)\n"
     ]
    }
   ],
   "source": [
    "# install numpy\n",
    "!pip install numpy"
   ]
  },
  {
   "cell_type": "code",
   "execution_count": 3,
   "id": "d0151ac4-7154-49c6-9746-ce637f9c0a7b",
   "metadata": {},
   "outputs": [],
   "source": [
    "# import numpy\n",
    "import numpy as np"
   ]
  },
  {
   "cell_type": "code",
   "execution_count": 4,
   "id": "3d9695e6-ccf4-403b-8ded-c587bf210d21",
   "metadata": {},
   "outputs": [
    {
     "data": {
      "text/plain": [
       "list"
      ]
     },
     "execution_count": 4,
     "metadata": {},
     "output_type": "execute_result"
    }
   ],
   "source": [
    "a = [1,3,4,24,4]\n",
    "type(a)"
   ]
  },
  {
   "cell_type": "code",
   "execution_count": 6,
   "id": "d9342c9e-ea34-415a-87bf-e3b4d6725196",
   "metadata": {},
   "outputs": [
    {
     "name": "stdout",
     "output_type": "stream",
     "text": [
      "[ 1  3 45  2  4]\n"
     ]
    },
    {
     "data": {
      "text/plain": [
       "numpy.ndarray"
      ]
     },
     "execution_count": 6,
     "metadata": {},
     "output_type": "execute_result"
    }
   ],
   "source": [
    "b = np.array([1,3,45,2,4])\n",
    "print(b)\n",
    "type(b)"
   ]
  },
  {
   "cell_type": "code",
   "execution_count": 7,
   "id": "ef46708f-ddd6-4e51-b734-bf3edca62f1d",
   "metadata": {},
   "outputs": [],
   "source": [
    "# Dimension ===>\n",
    "# 1-D element exist in x-direction\n",
    "# 2-D element exist in x and y direction\n",
    "# 3-D element exist in x, y, z direction"
   ]
  },
  {
   "cell_type": "code",
   "execution_count": 10,
   "id": "154109e6-7acd-4c7c-aabb-83292cf390aa",
   "metadata": {},
   "outputs": [
    {
     "name": "stdout",
     "output_type": "stream",
     "text": [
      "Total Shape :  (5,)\n"
     ]
    }
   ],
   "source": [
    "# shape ===> (rows,columns)\n",
    "print(\"Total Shape : \",b.shape)"
   ]
  },
  {
   "cell_type": "code",
   "execution_count": 11,
   "id": "a2130189-591b-49ea-8824-0e648cc49805",
   "metadata": {},
   "outputs": [
    {
     "name": "stdout",
     "output_type": "stream",
     "text": [
      "Total size :  5\n"
     ]
    }
   ],
   "source": [
    "# size ===> row*column\n",
    "print(\"Total size : \",b.size)"
   ]
  },
  {
   "cell_type": "code",
   "execution_count": 12,
   "id": "07fd7a28-06ec-4d58-a449-7634b94a7f9a",
   "metadata": {},
   "outputs": [
    {
     "name": "stdout",
     "output_type": "stream",
     "text": [
      "Total Dimension :  1\n"
     ]
    }
   ],
   "source": [
    "# ndim ===> dimension\n",
    "print(\"Total Dimension : \",b.ndim)"
   ]
  },
  {
   "cell_type": "code",
   "execution_count": 32,
   "id": "f94c33ac-b9fe-4364-beac-7e88674905d9",
   "metadata": {},
   "outputs": [
    {
     "name": "stdout",
     "output_type": "stream",
     "text": [
      "[[1, 2, 3], [4, 5, 6], [7, 8, 9]]\n"
     ]
    },
    {
     "data": {
      "text/plain": [
       "list"
      ]
     },
     "execution_count": 32,
     "metadata": {},
     "output_type": "execute_result"
    }
   ],
   "source": [
    "a = [[1,2,3],[4,5,6],[7,8,9]]\n",
    "print(a)\n",
    "type(a)"
   ]
  },
  {
   "cell_type": "code",
   "execution_count": 33,
   "id": "9c8b62e5-1e1d-453f-89ce-084747c9090a",
   "metadata": {},
   "outputs": [
    {
     "data": {
      "text/plain": [
       "array([[1, 2, 3],\n",
       "       [4, 5, 6],\n",
       "       [7, 8, 9]])"
      ]
     },
     "execution_count": 33,
     "metadata": {},
     "output_type": "execute_result"
    }
   ],
   "source": [
    "b = np.array(a)\n",
    "b"
   ]
  },
  {
   "cell_type": "code",
   "execution_count": 34,
   "id": "a1f74ead-2bf6-4f28-abf1-83d76e58371d",
   "metadata": {},
   "outputs": [
    {
     "name": "stdout",
     "output_type": "stream",
     "text": [
      "[[1 2 3]\n",
      " [4 5 6]\n",
      " [7 8 9]]\n"
     ]
    },
    {
     "data": {
      "text/plain": [
       "numpy.ndarray"
      ]
     },
     "execution_count": 34,
     "metadata": {},
     "output_type": "execute_result"
    }
   ],
   "source": [
    "print(b)\n",
    "type(b)"
   ]
  },
  {
   "cell_type": "code",
   "execution_count": 35,
   "id": "d526a55e-f9f2-4acd-a18d-445e676d91e9",
   "metadata": {},
   "outputs": [
    {
     "name": "stdout",
     "output_type": "stream",
     "text": [
      "Total Shape :  (3, 3)\n",
      "Total size :  9\n",
      "Total Dimension :  2\n"
     ]
    }
   ],
   "source": [
    "print(\"Total Shape : \",b.shape)\n",
    "print(\"Total size : \",b.size)\n",
    "print(\"Total Dimension : \",b.ndim)"
   ]
  },
  {
   "cell_type": "markdown",
   "id": "7cc4de76-35e2-4216-b94f-d0e71134e709",
   "metadata": {},
   "source": [
    "# how to create a user define array"
   ]
  },
  {
   "cell_type": "code",
   "execution_count": 27,
   "id": "40e65a38-df0d-4141-b194-271a3c775a41",
   "metadata": {},
   "outputs": [
    {
     "name": "stdin",
     "output_type": "stream",
     "text": [
      "Enter the size :  4\n",
      "Enter the value : 1\n",
      "Enter the value : 2\n",
      "Enter the value : 34\n",
      "Enter the value : 33\n"
     ]
    },
    {
     "data": {
      "text/plain": [
       "array([ 1,  2, 34, 33])"
      ]
     },
     "execution_count": 27,
     "metadata": {},
     "output_type": "execute_result"
    }
   ],
   "source": [
    "a = []\n",
    "size = int(input(\"Enter the size : \"))\n",
    "for i in range(size):\n",
    "    val = int(input(\"Enter the value :\"))\n",
    "    a.append(val)\n",
    "b = np.array(a)\n",
    "b"
   ]
  },
  {
   "cell_type": "code",
   "execution_count": 38,
   "id": "ee1a76d8-68c2-4840-ad24-ad65da89404e",
   "metadata": {},
   "outputs": [
    {
     "name": "stdin",
     "output_type": "stream",
     "text": [
      "Enter row size :  3\n",
      "Enter column size 2\n",
      "Enter the value :  1\n",
      "Enter the value :  2\n",
      "Enter the value :  3\n",
      "Enter the value :  4\n",
      "Enter the value :  5\n",
      "Enter the value :  6\n"
     ]
    },
    {
     "data": {
      "text/plain": [
       "array([[1, 2],\n",
       "       [3, 4],\n",
       "       [5, 6]])"
      ]
     },
     "execution_count": 38,
     "metadata": {},
     "output_type": "execute_result"
    }
   ],
   "source": [
    "a = []\n",
    "row = int(input(\"Enter row size : \"))\n",
    "col = int(input(\"Enter column size\"))\n",
    "for i in range(row):\n",
    "    mylist = []\n",
    "    for j in range(col):\n",
    "        val = int(input(\"Enter the value : \"))\n",
    "        mylist.append(val)\n",
    "    a.append(mylist)\n",
    "b = np.array(a)\n",
    "b"
   ]
  },
  {
   "cell_type": "code",
   "execution_count": null,
   "id": "be6e98ad-c75a-465d-8fe5-1a10f85be7c6",
   "metadata": {},
   "outputs": [],
   "source": []
  },
  {
   "cell_type": "markdown",
   "id": "3a1df648-d41f-49a6-b967-1b433ddebc6f",
   "metadata": {},
   "source": [
    "# numpy function"
   ]
  },
  {
   "cell_type": "code",
   "execution_count": 39,
   "id": "fe456fbc-289c-462d-92d9-66cb02e1d3f8",
   "metadata": {},
   "outputs": [],
   "source": [
    "# image ===> Pixels(0,255)px ===> 0px(black), 255px(white) ===> Normlize (0-1)px\n",
    "    # (a). Black & White ===> height, width\n",
    "    # (b). Colorfull ===> height, width, color_channel(RGB)"
   ]
  },
  {
   "cell_type": "code",
   "execution_count": 43,
   "id": "91dfe403-7a4b-4590-b85f-fa5002fa42a3",
   "metadata": {},
   "outputs": [],
   "source": [
    "# Matirx ===> \n",
    "    # 1. Symmatric Matrix ===> rows = columns \n",
    "    # 2. Asymmatric Matrix ===> rows != columns \n",
    "    # 3. digonal position element ===> [(1,1),(2,2)......(n,n)]"
   ]
  },
  {
   "cell_type": "code",
   "execution_count": 41,
   "id": "c833d01c-da24-4683-a352-c98ba7615489",
   "metadata": {},
   "outputs": [],
   "source": [
    "# random number generation ===> random module"
   ]
  },
  {
   "cell_type": "code",
   "execution_count": 42,
   "id": "15c150ec-1f18-4640-9c4f-ff80ac914dff",
   "metadata": {},
   "outputs": [],
   "source": [
    "# Data Science ===> Simple Line Equation ===> y = mx+b\n",
    "    # where\n",
    "        # x,y ===> co-ordinates\n",
    "        # m ===> weigth\n",
    "        # b ===> intercept"
   ]
  },
  {
   "cell_type": "markdown",
   "id": "c8e4dc6e-6f27-41ee-95f5-a4ffc0d0ed69",
   "metadata": {},
   "source": [
    "### (1). Zeros() ===> It will create an array in which all the values are 0."
   ]
  },
  {
   "cell_type": "code",
   "execution_count": 45,
   "id": "00c693cb-51ce-488f-95c3-abad3d73080d",
   "metadata": {},
   "outputs": [
    {
     "data": {
      "text/plain": [
       "array([0., 0., 0.])"
      ]
     },
     "execution_count": 45,
     "metadata": {},
     "output_type": "execute_result"
    }
   ],
   "source": [
    "a = np.zeros(3)\n",
    "a"
   ]
  },
  {
   "cell_type": "code",
   "execution_count": 46,
   "id": "186e6d2d-9796-4833-9d46-4b4e75ff7e63",
   "metadata": {},
   "outputs": [
    {
     "data": {
      "text/plain": [
       "array([[0., 0., 0., 0.],\n",
       "       [0., 0., 0., 0.],\n",
       "       [0., 0., 0., 0.]])"
      ]
     },
     "execution_count": 46,
     "metadata": {},
     "output_type": "execute_result"
    }
   ],
   "source": [
    "a = np.zeros([3,4])\n",
    "a"
   ]
  },
  {
   "cell_type": "markdown",
   "id": "c4d2f3a1-1323-4de5-9fad-bc6de5cee132",
   "metadata": {},
   "source": [
    "### (2). Ones() ===> It will create an array in which all the values are 1."
   ]
  },
  {
   "cell_type": "code",
   "execution_count": 48,
   "id": "463b991d-f8a5-4e02-bae7-32f7b45abddc",
   "metadata": {},
   "outputs": [
    {
     "data": {
      "text/plain": [
       "array([1., 1., 1.])"
      ]
     },
     "execution_count": 48,
     "metadata": {},
     "output_type": "execute_result"
    }
   ],
   "source": [
    "a = np.ones(3)\n",
    "a"
   ]
  },
  {
   "cell_type": "code",
   "execution_count": 49,
   "id": "df31697a-67d1-4fde-92f7-788f7ca22884",
   "metadata": {},
   "outputs": [
    {
     "data": {
      "text/plain": [
       "array([[1., 1., 1., 1.],\n",
       "       [1., 1., 1., 1.],\n",
       "       [1., 1., 1., 1.]])"
      ]
     },
     "execution_count": 49,
     "metadata": {},
     "output_type": "execute_result"
    }
   ],
   "source": [
    "a = np.ones([3,4])\n",
    "a"
   ]
  },
  {
   "cell_type": "markdown",
   "id": "973831aa-d22a-4582-a719-280b76c9affb",
   "metadata": {},
   "source": [
    "### (3). eye() ===> It will create an array in which digonal position elements are 1 and rest all are 0."
   ]
  },
  {
   "cell_type": "code",
   "execution_count": 50,
   "id": "64c392e0-ddd7-435b-941a-d1bc4200497e",
   "metadata": {},
   "outputs": [
    {
     "data": {
      "text/plain": [
       "array([[1., 0., 0.],\n",
       "       [0., 1., 0.],\n",
       "       [0., 0., 1.]])"
      ]
     },
     "execution_count": 50,
     "metadata": {},
     "output_type": "execute_result"
    }
   ],
   "source": [
    "a = np.eye(3)\n",
    "a"
   ]
  },
  {
   "cell_type": "code",
   "execution_count": 51,
   "id": "eb37d3fb-5a84-4f66-88d4-976dc0fade2e",
   "metadata": {},
   "outputs": [
    {
     "data": {
      "text/plain": [
       "array([[1., 0., 0., 0.],\n",
       "       [0., 1., 0., 0.],\n",
       "       [0., 0., 1., 0.]])"
      ]
     },
     "execution_count": 51,
     "metadata": {},
     "output_type": "execute_result"
    }
   ],
   "source": [
    "a = np.eye(3,4)\n",
    "a"
   ]
  },
  {
   "cell_type": "markdown",
   "id": "caf0f3bb-ee5a-4a58-bc45-735030839121",
   "metadata": {},
   "source": [
    "### (4). diag() ===> It will create an array in which we can cutomixe our digonal position elements."
   ]
  },
  {
   "cell_type": "code",
   "execution_count": 52,
   "id": "d2320c40-de5e-4f7f-b7dd-8872c3ef7402",
   "metadata": {},
   "outputs": [
    {
     "data": {
      "text/plain": [
       "array([[1, 0, 0, 0],\n",
       "       [0, 2, 0, 0],\n",
       "       [0, 0, 3, 0],\n",
       "       [0, 0, 0, 4]])"
      ]
     },
     "execution_count": 52,
     "metadata": {},
     "output_type": "execute_result"
    }
   ],
   "source": [
    "a = np.diag([1,2,3,4])\n",
    "a"
   ]
  },
  {
   "cell_type": "markdown",
   "id": "4f4e0cc1-22b9-4eaa-9603-e02d3fbeb42d",
   "metadata": {},
   "source": [
    "## (5). Random Module\n",
    "* (a). OTP Generation\n",
    "* (b). Dataset 1 dummy column add\n",
    "* (c). randomly weights initialize"
   ]
  },
  {
   "cell_type": "markdown",
   "id": "0ef26d02-9391-4221-a1cd-77c34245c163",
   "metadata": {},
   "source": [
    "#### (a). randint(min_number, max_number, total_number)"
   ]
  },
  {
   "cell_type": "code",
   "execution_count": 55,
   "id": "46f2865b-7026-4b18-8663-cb78ef2dc8a5",
   "metadata": {},
   "outputs": [
    {
     "data": {
      "text/plain": [
       "array([5, 8, 5, 7, 1])"
      ]
     },
     "execution_count": 55,
     "metadata": {},
     "output_type": "execute_result"
    }
   ],
   "source": [
    "a = np.random.randint(1,10,5)\n",
    "a"
   ]
  },
  {
   "cell_type": "markdown",
   "id": "83f340d3-8aa2-4df8-9181-3f5471af4720",
   "metadata": {},
   "source": [
    "#### (b). rand(total_number) ===> range(0,1)"
   ]
  },
  {
   "cell_type": "code",
   "execution_count": 56,
   "id": "6cc3f3e6-3772-4df1-a954-d7863fbe096e",
   "metadata": {},
   "outputs": [
    {
     "data": {
      "text/plain": [
       "array([0.96309307, 0.24958365, 0.47896602, 0.40982893, 0.54588101])"
      ]
     },
     "execution_count": 56,
     "metadata": {},
     "output_type": "execute_result"
    }
   ],
   "source": [
    "a = np.random.rand(5)\n",
    "a"
   ]
  },
  {
   "cell_type": "markdown",
   "id": "99f14581-9229-47de-b5f2-526633bde736",
   "metadata": {},
   "source": [
    "#### (c). randn() ===> range(-3,+3)"
   ]
  },
  {
   "cell_type": "code",
   "execution_count": 57,
   "id": "069940ba-26b0-401c-ba78-ee849224c1c0",
   "metadata": {},
   "outputs": [
    {
     "data": {
      "text/plain": [
       "array([-1.43656518,  0.21984359,  0.93310615, -0.96184305,  0.1424605 ])"
      ]
     },
     "execution_count": 57,
     "metadata": {},
     "output_type": "execute_result"
    }
   ],
   "source": [
    "a = np.random.randn(5)\n",
    "a"
   ]
  },
  {
   "cell_type": "markdown",
   "id": "52ac0230-9d72-49f2-925b-404eb21e74cf",
   "metadata": {},
   "source": [
    "#### (d). seed() ===> fix the generated values"
   ]
  },
  {
   "cell_type": "code",
   "execution_count": 66,
   "id": "9cecbec2-d883-4b8f-8c53-d38dc3588d3e",
   "metadata": {},
   "outputs": [
    {
     "data": {
      "text/plain": [
       "array([4, 5, 7])"
      ]
     },
     "execution_count": 66,
     "metadata": {},
     "output_type": "execute_result"
    }
   ],
   "source": [
    "np.random.seed(20)\n",
    "a = np.random.randint(1,10,3)\n",
    "a"
   ]
  },
  {
   "cell_type": "code",
   "execution_count": 67,
   "id": "942729df-5abc-4f03-acb8-978aa03e97dd",
   "metadata": {},
   "outputs": [
    {
     "data": {
      "text/plain": [
       "array([8, 3, 1])"
      ]
     },
     "execution_count": 67,
     "metadata": {},
     "output_type": "execute_result"
    }
   ],
   "source": [
    "b = np.random.randint(1,10,3)\n",
    "b"
   ]
  },
  {
   "cell_type": "code",
   "execution_count": null,
   "id": "1f767c40-6217-4a72-b9b4-971d1451804a",
   "metadata": {},
   "outputs": [],
   "source": []
  }
 ],
 "metadata": {
  "kernelspec": {
   "display_name": "Python 3 (ipykernel)",
   "language": "python",
   "name": "python3"
  },
  "language_info": {
   "codemirror_mode": {
    "name": "ipython",
    "version": 3
   },
   "file_extension": ".py",
   "mimetype": "text/x-python",
   "name": "python",
   "nbconvert_exporter": "python",
   "pygments_lexer": "ipython3",
   "version": "3.11.7"
  }
 },
 "nbformat": 4,
 "nbformat_minor": 5
}
