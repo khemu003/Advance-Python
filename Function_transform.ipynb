{
 "cells": [
  {
   "cell_type": "markdown",
   "id": "38814c59-edd3-4d0e-b104-ece45ded5d11",
   "metadata": {},
   "source": [
    "The FunctionTransformer takes as input a single function that will be applied to each sample in the data. This function can be any Python function that takes a single argument, such as a lambda function or a user-defined function. The function should retum the transformed sample."
   ]
  },
  {
   "cell_type": "code",
   "execution_count": 1,
   "id": "398b02be-2878-4261-a364-33316b77531d",
   "metadata": {},
   "outputs": [
    {
     "name": "stdout",
     "output_type": "stream",
     "text": [
      "[[0.69314718 1.09861229]\n",
      " [1.38629436 1.60943791]]\n"
     ]
    }
   ],
   "source": [
    "import numpy as np\n",
    "from sklearn.preprocessing import FunctionTransformer\n",
    "\n",
    "# Create a dataset\n",
    "x = np.array([[1,2], [3,4]])\n",
    "\n",
    "# Define the transformation function\n",
    "log_transform = FunctionTransformer(np.log1p)\n",
    "\n",
    "# apply the transformation to the dataset\n",
    "x_transformed = log_transform.transform(x)\n",
    "\n",
    "# View the transform data\n",
    "print(x_transformed)"
   ]
  },
  {
   "cell_type": "code",
   "execution_count": 2,
   "id": "7057c7f5-27aa-4a46-9dfe-0bc5e09f66dd",
   "metadata": {},
   "outputs": [
    {
     "name": "stdout",
     "output_type": "stream",
     "text": [
      "[[ 1  2  1  4]\n",
      " [ 3  4  9 16]]\n"
     ]
    }
   ],
   "source": [
    "# 1. Custom Feature Engineering\n",
    "import numpy as np\n",
    "from sklearn.preprocessing import FunctionTransformer\n",
    "\n",
    "# Create a dataset\n",
    "x = np.array([[1,2], [3,4]])\n",
    "\n",
    "# Define a custom feature engineering function\n",
    "def holi(x):\n",
    "    return np.hstack((x, x**2))\n",
    "\n",
    "# Create a FunctionTransformer to apply the custom function\n",
    "custom_transformer = FunctionTransformer(holi)\n",
    "\n",
    "# apply the transformation to the dataset\n",
    "x_transformed = custom_transformer.transform(x)\n",
    "\n",
    "# View the transformed data\n",
    "print(x_transformed)"
   ]
  },
  {
   "cell_type": "code",
   "execution_count": 3,
   "id": "a466fb60-9544-4798-a571-699292083f27",
   "metadata": {},
   "outputs": [
    {
     "name": "stdout",
     "output_type": "stream",
     "text": [
      "[[0.25 0.5 ]\n",
      " [0.75 1.  ]]\n"
     ]
    }
   ],
   "source": [
    "# 2. Custom Feature Engineering\n",
    "import numpy as np\n",
    "from sklearn.preprocessing import FunctionTransformer\n",
    "\n",
    "# Create a dataset\n",
    "x = np.array([[1,2], [3,4]])\n",
    "\n",
    "# Define a custom feature engineering function\n",
    "def my_scaling(x):\n",
    "    return x / np.max(x)\n",
    "\n",
    "# Create a FunctionTransformer to apply the custom function\n",
    "custom_transformer = FunctionTransformer(my_scaling)\n",
    "\n",
    "# apply the transformation to the dataset\n",
    "x_transformed = custom_transformer.transform(x)\n",
    "\n",
    "# View the transformed data\n",
    "print(x_transformed)"
   ]
  },
  {
   "cell_type": "code",
   "execution_count": 4,
   "id": "d1b43155-87dc-487b-8a1b-4206ed271986",
   "metadata": {},
   "outputs": [
    {
     "name": "stdout",
     "output_type": "stream",
     "text": [
      "[[1. 2.]\n",
      " [3. 0.]]\n"
     ]
    }
   ],
   "source": [
    "# 3. Custom Feature Engineering\n",
    "import numpy as np\n",
    "from sklearn.preprocessing import FunctionTransformer\n",
    "\n",
    "# Create a dataset\n",
    "x = np.array([[1,2], [3, np.nan]])\n",
    "\n",
    "# Define a custom feature engineering function\n",
    "def my_cleaning(x):\n",
    "    x[np.isnan(x)] = 0\n",
    "    return x\n",
    "\n",
    "# Create a FunctionTransformer to apply the custom function\n",
    "custom_transformer = FunctionTransformer(my_cleaning)\n",
    "\n",
    "# apply the transformation to the dataset\n",
    "x_transformed = custom_transformer.transform(x)\n",
    "\n",
    "# View the transformed data\n",
    "print(x_transformed)"
   ]
  },
  {
   "cell_type": "code",
   "execution_count": 5,
   "id": "97b036fc-72be-44a2-bd67-ff5a13b7ad3b",
   "metadata": {},
   "outputs": [],
   "source": [
    "import pandas as pd\n",
    "import numpy as np"
   ]
  },
  {
   "cell_type": "code",
   "execution_count": 6,
   "id": "fc7616e6-daad-4226-b2da-ab154ad7f8d3",
   "metadata": {},
   "outputs": [
    {
     "data": {
      "text/html": [
       "<div>\n",
       "<style scoped>\n",
       "    .dataframe tbody tr th:only-of-type {\n",
       "        vertical-align: middle;\n",
       "    }\n",
       "\n",
       "    .dataframe tbody tr th {\n",
       "        vertical-align: top;\n",
       "    }\n",
       "\n",
       "    .dataframe thead th {\n",
       "        text-align: right;\n",
       "    }\n",
       "</style>\n",
       "<table border=\"1\" class=\"dataframe\">\n",
       "  <thead>\n",
       "    <tr style=\"text-align: right;\">\n",
       "      <th></th>\n",
       "      <th>cgpa</th>\n",
       "      <th>resume_score</th>\n",
       "      <th>placed</th>\n",
       "    </tr>\n",
       "  </thead>\n",
       "  <tbody>\n",
       "    <tr>\n",
       "      <th>0</th>\n",
       "      <td>8.14</td>\n",
       "      <td>6.52</td>\n",
       "      <td>1</td>\n",
       "    </tr>\n",
       "    <tr>\n",
       "      <th>1</th>\n",
       "      <td>6.17</td>\n",
       "      <td>5.17</td>\n",
       "      <td>0</td>\n",
       "    </tr>\n",
       "    <tr>\n",
       "      <th>2</th>\n",
       "      <td>8.27</td>\n",
       "      <td>8.86</td>\n",
       "      <td>1</td>\n",
       "    </tr>\n",
       "  </tbody>\n",
       "</table>\n",
       "</div>"
      ],
      "text/plain": [
       "   cgpa  resume_score  placed\n",
       "0  8.14          6.52       1\n",
       "1  6.17          5.17       0\n",
       "2  8.27          8.86       1"
      ]
     },
     "execution_count": 6,
     "metadata": {},
     "output_type": "execute_result"
    }
   ],
   "source": [
    "df = pd.read_csv(\"D:\\\\DataSet\\\\placement.csv\")\n",
    "df.head(3)"
   ]
  },
  {
   "cell_type": "code",
   "execution_count": 7,
   "id": "edf2abff-293f-4623-aa74-e73b8ec6b520",
   "metadata": {},
   "outputs": [],
   "source": [
    "x = df.drop(columns = [\"placed\"])\n",
    "y = df[\"placed\"]"
   ]
  },
  {
   "cell_type": "code",
   "execution_count": 8,
   "id": "36c3d2fa-681e-4364-9159-0de4bf755515",
   "metadata": {},
   "outputs": [
    {
     "data": {
      "text/html": [
       "<div>\n",
       "<style scoped>\n",
       "    .dataframe tbody tr th:only-of-type {\n",
       "        vertical-align: middle;\n",
       "    }\n",
       "\n",
       "    .dataframe tbody tr th {\n",
       "        vertical-align: top;\n",
       "    }\n",
       "\n",
       "    .dataframe thead th {\n",
       "        text-align: right;\n",
       "    }\n",
       "</style>\n",
       "<table border=\"1\" class=\"dataframe\">\n",
       "  <thead>\n",
       "    <tr style=\"text-align: right;\">\n",
       "      <th></th>\n",
       "      <th>cgpa</th>\n",
       "      <th>resume_score</th>\n",
       "    </tr>\n",
       "  </thead>\n",
       "  <tbody>\n",
       "    <tr>\n",
       "      <th>0</th>\n",
       "      <td>2.212660</td>\n",
       "      <td>2.017566</td>\n",
       "    </tr>\n",
       "    <tr>\n",
       "      <th>1</th>\n",
       "      <td>1.969906</td>\n",
       "      <td>1.819699</td>\n",
       "    </tr>\n",
       "    <tr>\n",
       "      <th>2</th>\n",
       "      <td>2.226783</td>\n",
       "      <td>2.288486</td>\n",
       "    </tr>\n",
       "    <tr>\n",
       "      <th>3</th>\n",
       "      <td>2.064328</td>\n",
       "      <td>2.112635</td>\n",
       "    </tr>\n",
       "    <tr>\n",
       "      <th>4</th>\n",
       "      <td>2.142416</td>\n",
       "      <td>2.116256</td>\n",
       "    </tr>\n",
       "    <tr>\n",
       "      <th>...</th>\n",
       "      <td>...</td>\n",
       "      <td>...</td>\n",
       "    </tr>\n",
       "    <tr>\n",
       "      <th>95</th>\n",
       "      <td>1.991976</td>\n",
       "      <td>1.998774</td>\n",
       "    </tr>\n",
       "    <tr>\n",
       "      <th>96</th>\n",
       "      <td>2.222459</td>\n",
       "      <td>2.170196</td>\n",
       "    </tr>\n",
       "    <tr>\n",
       "      <th>97</th>\n",
       "      <td>2.034706</td>\n",
       "      <td>2.172476</td>\n",
       "    </tr>\n",
       "    <tr>\n",
       "      <th>98</th>\n",
       "      <td>2.212660</td>\n",
       "      <td>1.891605</td>\n",
       "    </tr>\n",
       "    <tr>\n",
       "      <th>99</th>\n",
       "      <td>1.958685</td>\n",
       "      <td>2.029463</td>\n",
       "    </tr>\n",
       "  </tbody>\n",
       "</table>\n",
       "<p>100 rows × 2 columns</p>\n",
       "</div>"
      ],
      "text/plain": [
       "        cgpa  resume_score\n",
       "0   2.212660      2.017566\n",
       "1   1.969906      1.819699\n",
       "2   2.226783      2.288486\n",
       "3   2.064328      2.112635\n",
       "4   2.142416      2.116256\n",
       "..       ...           ...\n",
       "95  1.991976      1.998774\n",
       "96  2.222459      2.170196\n",
       "97  2.034706      2.172476\n",
       "98  2.212660      1.891605\n",
       "99  1.958685      2.029463\n",
       "\n",
       "[100 rows x 2 columns]"
      ]
     },
     "execution_count": 8,
     "metadata": {},
     "output_type": "execute_result"
    }
   ],
   "source": [
    "from sklearn.preprocessing import FunctionTransformer\n",
    "\n",
    "log_transform = FunctionTransformer(np.log1p)\n",
    "\n",
    "x_transformed = log_transform.transform(x)\n",
    "\n",
    "x_transformed"
   ]
  },
  {
   "cell_type": "code",
   "execution_count": 9,
   "id": "c6e69e43-6a79-4a12-8ffc-07aaefc4f853",
   "metadata": {},
   "outputs": [
    {
     "name": "stdout",
     "output_type": "stream",
     "text": [
      "Integer data type columns name : ['age']\n",
      "Float data type columns name : ['fever']\n",
      "object data type columns name : ['gender', 'cough', 'city', 'has_covid']\n"
     ]
    }
   ],
   "source": [
    "# 1. Custom Feature Engineering\n",
    "import numpy as np\n",
    "from sklearn.preprocessing import FunctionTransformer\n",
    "\n",
    "# Create a dataset\n",
    "df = pd.read_csv(\"D:\\\\DataSet\\\\covid_toy.csv\")\n",
    "\n",
    "# Define a custom feature engineering function\n",
    "int_list = []\n",
    "float_list = []\n",
    "object_list = []\n",
    "def separate(df):\n",
    "    for i in df.select_dtypes(include = [\"int64\"]).columns:\n",
    "        int_list.append(i)\n",
    "    for j in df.select_dtypes(include = [\"float64\"]).columns:\n",
    "        float_list.append(j)\n",
    "    for k in df.select_dtypes(include = [\"object\"]).columns:\n",
    "        object_list.append(k)\n",
    "\n",
    "# Create a FunctionTransformer to apply the custom function\n",
    "custom_transformer = FunctionTransformer(separate)\n",
    "\n",
    "# apply the transformation to the dataset\n",
    "x_transformed = custom_transformer.transform(df)\n",
    "\n",
    "# View the transformed data\n",
    "print(\"Integer data type columns name :\",int_list)\n",
    "print(\"Float data type columns name :\",float_list)\n",
    "print(\"object data type columns name :\",object_list)"
   ]
  },
  {
   "cell_type": "code",
   "execution_count": 10,
   "id": "4d245595-e427-48dd-8c3a-55ff00221fa7",
   "metadata": {},
   "outputs": [
    {
     "data": {
      "text/plain": [
       "cgpa            float64\n",
       "resume_score    float64\n",
       "dtype: object"
      ]
     },
     "execution_count": 10,
     "metadata": {},
     "output_type": "execute_result"
    }
   ],
   "source": [
    "x.dtypes"
   ]
  },
  {
   "cell_type": "code",
   "execution_count": 11,
   "id": "39796279-6267-4ed2-bc61-b881da865a22",
   "metadata": {},
   "outputs": [
    {
     "data": {
      "text/html": [
       "<div>\n",
       "<style scoped>\n",
       "    .dataframe tbody tr th:only-of-type {\n",
       "        vertical-align: middle;\n",
       "    }\n",
       "\n",
       "    .dataframe tbody tr th {\n",
       "        vertical-align: top;\n",
       "    }\n",
       "\n",
       "    .dataframe thead th {\n",
       "        text-align: right;\n",
       "    }\n",
       "</style>\n",
       "<table border=\"1\" class=\"dataframe\">\n",
       "  <thead>\n",
       "    <tr style=\"text-align: right;\">\n",
       "      <th></th>\n",
       "      <th>age</th>\n",
       "      <th>gender</th>\n",
       "      <th>fever</th>\n",
       "      <th>cough</th>\n",
       "      <th>city</th>\n",
       "      <th>has_covid</th>\n",
       "    </tr>\n",
       "  </thead>\n",
       "  <tbody>\n",
       "    <tr>\n",
       "      <th>0</th>\n",
       "      <td>60</td>\n",
       "      <td>Male</td>\n",
       "      <td>103.0</td>\n",
       "      <td>Mild</td>\n",
       "      <td>Kolkata</td>\n",
       "      <td>No</td>\n",
       "    </tr>\n",
       "    <tr>\n",
       "      <th>1</th>\n",
       "      <td>27</td>\n",
       "      <td>Male</td>\n",
       "      <td>100.0</td>\n",
       "      <td>Mild</td>\n",
       "      <td>Delhi</td>\n",
       "      <td>Yes</td>\n",
       "    </tr>\n",
       "    <tr>\n",
       "      <th>2</th>\n",
       "      <td>42</td>\n",
       "      <td>Male</td>\n",
       "      <td>101.0</td>\n",
       "      <td>Mild</td>\n",
       "      <td>Delhi</td>\n",
       "      <td>No</td>\n",
       "    </tr>\n",
       "  </tbody>\n",
       "</table>\n",
       "</div>"
      ],
      "text/plain": [
       "   age gender  fever cough     city has_covid\n",
       "0   60   Male  103.0  Mild  Kolkata        No\n",
       "1   27   Male  100.0  Mild    Delhi       Yes\n",
       "2   42   Male  101.0  Mild    Delhi        No"
      ]
     },
     "execution_count": 11,
     "metadata": {},
     "output_type": "execute_result"
    }
   ],
   "source": [
    "df.head(3)"
   ]
  },
  {
   "cell_type": "code",
   "execution_count": 12,
   "id": "e8fe3e4d-cf40-488a-8402-f7f3cd8dd12e",
   "metadata": {},
   "outputs": [
    {
     "data": {
      "text/html": [
       "<div>\n",
       "<style scoped>\n",
       "    .dataframe tbody tr th:only-of-type {\n",
       "        vertical-align: middle;\n",
       "    }\n",
       "\n",
       "    .dataframe tbody tr th {\n",
       "        vertical-align: top;\n",
       "    }\n",
       "\n",
       "    .dataframe thead th {\n",
       "        text-align: right;\n",
       "    }\n",
       "</style>\n",
       "<table border=\"1\" class=\"dataframe\">\n",
       "  <thead>\n",
       "    <tr style=\"text-align: right;\">\n",
       "      <th></th>\n",
       "      <th>age</th>\n",
       "      <th>gender</th>\n",
       "      <th>fever</th>\n",
       "      <th>cough</th>\n",
       "      <th>city</th>\n",
       "      <th>has_covid</th>\n",
       "    </tr>\n",
       "  </thead>\n",
       "  <tbody>\n",
       "    <tr>\n",
       "      <th>0</th>\n",
       "      <td>60</td>\n",
       "      <td>1</td>\n",
       "      <td>103.0</td>\n",
       "      <td>0</td>\n",
       "      <td>2</td>\n",
       "      <td>0</td>\n",
       "    </tr>\n",
       "    <tr>\n",
       "      <th>1</th>\n",
       "      <td>27</td>\n",
       "      <td>1</td>\n",
       "      <td>100.0</td>\n",
       "      <td>0</td>\n",
       "      <td>1</td>\n",
       "      <td>1</td>\n",
       "    </tr>\n",
       "    <tr>\n",
       "      <th>2</th>\n",
       "      <td>42</td>\n",
       "      <td>1</td>\n",
       "      <td>101.0</td>\n",
       "      <td>0</td>\n",
       "      <td>1</td>\n",
       "      <td>0</td>\n",
       "    </tr>\n",
       "  </tbody>\n",
       "</table>\n",
       "</div>"
      ],
      "text/plain": [
       "   age  gender  fever  cough  city  has_covid\n",
       "0   60       1  103.0      0     2          0\n",
       "1   27       1  100.0      0     1          1\n",
       "2   42       1  101.0      0     1          0"
      ]
     },
     "execution_count": 12,
     "metadata": {},
     "output_type": "execute_result"
    }
   ],
   "source": [
    "from sklearn.preprocessing import LabelEncoder\n",
    "le = LabelEncoder()\n",
    "\n",
    "for i in object_list:\n",
    "    df[i] = le.fit_transform(df[i])\n",
    "\n",
    "df.head(3)"
   ]
  },
  {
   "cell_type": "code",
   "execution_count": 13,
   "id": "4a060302-2dd6-4b63-b0d2-105e09aa48b1",
   "metadata": {},
   "outputs": [
    {
     "data": {
      "text/html": [
       "<div>\n",
       "<style scoped>\n",
       "    .dataframe tbody tr th:only-of-type {\n",
       "        vertical-align: middle;\n",
       "    }\n",
       "\n",
       "    .dataframe tbody tr th {\n",
       "        vertical-align: top;\n",
       "    }\n",
       "\n",
       "    .dataframe thead th {\n",
       "        text-align: right;\n",
       "    }\n",
       "</style>\n",
       "<table border=\"1\" class=\"dataframe\">\n",
       "  <thead>\n",
       "    <tr style=\"text-align: right;\">\n",
       "      <th></th>\n",
       "      <th>index</th>\n",
       "      <th>missing</th>\n",
       "    </tr>\n",
       "  </thead>\n",
       "  <tbody>\n",
       "    <tr>\n",
       "      <th>0</th>\n",
       "      <td>age</td>\n",
       "      <td>0</td>\n",
       "    </tr>\n",
       "    <tr>\n",
       "      <th>1</th>\n",
       "      <td>gender</td>\n",
       "      <td>0</td>\n",
       "    </tr>\n",
       "    <tr>\n",
       "      <th>2</th>\n",
       "      <td>fever</td>\n",
       "      <td>10</td>\n",
       "    </tr>\n",
       "    <tr>\n",
       "      <th>3</th>\n",
       "      <td>cough</td>\n",
       "      <td>0</td>\n",
       "    </tr>\n",
       "    <tr>\n",
       "      <th>4</th>\n",
       "      <td>city</td>\n",
       "      <td>0</td>\n",
       "    </tr>\n",
       "    <tr>\n",
       "      <th>5</th>\n",
       "      <td>has_covid</td>\n",
       "      <td>0</td>\n",
       "    </tr>\n",
       "  </tbody>\n",
       "</table>\n",
       "</div>"
      ],
      "text/plain": [
       "       index  missing\n",
       "0        age        0\n",
       "1     gender        0\n",
       "2      fever       10\n",
       "3      cough        0\n",
       "4       city        0\n",
       "5  has_covid        0"
      ]
     },
     "execution_count": 13,
     "metadata": {},
     "output_type": "execute_result"
    }
   ],
   "source": [
    "missing_df = df.isnull().sum().reset_index(name=\"missing\")\n",
    "missing_df"
   ]
  },
  {
   "cell_type": "code",
   "execution_count": 14,
   "id": "c3192c0f-9b9f-4ddd-b6f6-8351b2786410",
   "metadata": {},
   "outputs": [
    {
     "name": "stdout",
     "output_type": "stream",
     "text": [
      "['fever']\n"
     ]
    }
   ],
   "source": [
    "missing_col_list = []\n",
    "for column in df.columns:\n",
    "    missing_count = df[column].isnull().sum()\n",
    "    if missing_count>0:\n",
    "        missing_col_list.append(column)\n",
    "\n",
    "print(missing_col_list)"
   ]
  },
  {
   "cell_type": "code",
   "execution_count": 15,
   "id": "add64d86-9d76-455f-81be-a4a1790f7eed",
   "metadata": {},
   "outputs": [
    {
     "data": {
      "text/plain": [
       "age          0\n",
       "gender       0\n",
       "fever        0\n",
       "cough        0\n",
       "city         0\n",
       "has_covid    0\n",
       "dtype: int64"
      ]
     },
     "execution_count": 15,
     "metadata": {},
     "output_type": "execute_result"
    }
   ],
   "source": [
    "for i in missing_col_list:\n",
    "    if i in int_list:\n",
    "        from sklearn.impute import SimpleImputer\n",
    "        si = SimpleImputer(strategy=\"mean\")\n",
    "        df[i] = si.fit_transform(df[[i]])\n",
    "    elif i in float_list:\n",
    "        from sklearn.impute import SimpleImputer\n",
    "        si = SimpleImputer(strategy=\"mean\")\n",
    "        df[i] = si.fit_transform(df[[i]])\n",
    "    \n",
    "df.isnull().sum()"
   ]
  },
  {
   "cell_type": "code",
   "execution_count": null,
   "id": "33b4deaf-db46-4459-bd58-e83579fade45",
   "metadata": {},
   "outputs": [],
   "source": []
  }
 ],
 "metadata": {
  "kernelspec": {
   "display_name": "Python 3 (ipykernel)",
   "language": "python",
   "name": "python3"
  },
  "language_info": {
   "codemirror_mode": {
    "name": "ipython",
    "version": 3
   },
   "file_extension": ".py",
   "mimetype": "text/x-python",
   "name": "python",
   "nbconvert_exporter": "python",
   "pygments_lexer": "ipython3",
   "version": "3.11.7"
  }
 },
 "nbformat": 4,
 "nbformat_minor": 5
}
